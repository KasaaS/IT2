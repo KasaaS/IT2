{
 "cells": [
  {
   "cell_type": "code",
   "execution_count": 3,
   "metadata": {},
   "outputs": [
    {
     "name": "stdout",
     "output_type": "stream",
     "text": [
      "Hallo verden\n"
     ]
    }
   ],
   "source": [
    "print(\"Hallo verden\")"
   ]
  },
  {
   "cell_type": "code",
   "execution_count": 9,
   "metadata": {},
   "outputs": [
    {
     "name": "stdout",
     "output_type": "stream",
     "text": [
      "<class 'list'>\n"
     ]
    },
    {
     "data": {
      "text/plain": [
       "{'navn': 'La Diabla',\n",
       " 'artist': 'Xavi',\n",
       " 'bilde_url': 'https://i.scdn.co/image/ab67616d00001e021501c770de50a22b25d67611',\n",
       " 'plassering': 1,\n",
       " 'forrige_plassering': 1,\n",
       " 'topplassering': 1,\n",
       " 'topp_dato': '2024-01-11',\n",
       " 'uker_paa_listen': 5,\n",
       " 'antall_streams': 34195950}"
      ]
     },
     "execution_count": 9,
     "metadata": {},
     "output_type": "execute_result"
    }
   ],
   "source": [
    "import json\n",
    "with open(\"spotify-weekly-top-songs-global-uke2-2023.json\") as fil:\n",
    "    data = json.load(fil)\n",
    "print(type(data)) # printer datatypen for å sjekke hva vi jobber med\n",
    "data[0] # henter ut første element i lista (trenger ikke print i jupyter notebook)"
   ]
  },
  {
   "cell_type": "code",
   "execution_count": 10,
   "metadata": {},
   "outputs": [
    {
     "data": {
      "text/plain": [
       "5"
      ]
     },
     "execution_count": 10,
     "metadata": {},
     "output_type": "execute_result"
    }
   ],
   "source": [
    "data[0][\"uker_paa_listen\"] # henter ut uker på listen fra den første sangen"
   ]
  },
  {
   "cell_type": "code",
   "execution_count": 12,
   "metadata": {},
   "outputs": [
    {
     "name": "stdout",
     "output_type": "stream",
     "text": [
      "Believer 358\n"
     ]
    }
   ],
   "source": [
    "høyest = data[0][\"uker_paa_listen\"]\n",
    "høyest_sang = data[0][\"navn\"]\n",
    "for sang in data:\n",
    "    if sang[\"uker_paa_listen\"] > høyest:\n",
    "        høyest = sang[\"uker_paa_listen\"]\n",
    "        høyest_sang = sang[\"navn\"]\n",
    "print(høyest_sang, høyest)"
   ]
  },
  {
   "cell_type": "code",
   "execution_count": 17,
   "metadata": {},
   "outputs": [
    {
     "name": "stdout",
     "output_type": "stream",
     "text": [
      "La Diabla - Xavi - 5\n",
      "greedy - Tate McRae - 17\n",
      "Lovin On Me - Jack Harlow - 9\n",
      "Cruel Summer - Taylor Swift - 49\n",
      "One Of The Girls (with JENNIE, Lily Rose Depp) - The Weeknd - 14\n",
      "My Love Mine All Mine - Mitski - 16\n",
      "Stick Season - Noah Kahan - 14\n",
      "La Víctima - Xavi - 7\n",
      "Seven (feat. Latto) (Explicit Ver.) - Jung Kook - 26\n",
      "Paint The Town Red - Doja Cat - 23\n",
      "LUNA - Feid - 5\n",
      "BELLAKEO - Peso Pluma - 5\n",
      "Popular (with Playboi Carti & Madonna) - Music from the HBO Original Series - The Weeknd - 32\n",
      "Strangers - Kenya Grace - 19\n",
      "I Wanna Be Yours - Arctic Monkeys - 79\n",
      "Water - Tyla - 16\n",
      "PERRO NEGRO - Bad Bunny - 13\n",
      "Standing Next to You - Jung Kook - 10\n",
      "QLONA - KAROL G - 22\n",
      "vampire - Olivia Rodrigo - 28\n",
      "Que Onda - Calle 24 - 19\n",
      "Agora Hills - Doja Cat - 16\n",
      "Starboy - The Weeknd - 171\n",
      "Si No Estás - iñigo quintero - 16\n",
      "HARLEY QUINN - Fuerza Regida - 11\n",
      "What Was I Made For? [From The Motion Picture \"Barbie\"] - Billie Eilish - 26\n",
      "Kill Bill - SZA - 57\n",
      "As It Was - Harry Styles - 93\n",
      "Daylight - David Kushner - 39\n",
      "Riptide - Vance Joy - 152\n",
      "Houdini - Dua Lipa - 9\n",
      "Lose Control - Teddy Swims - 9\n",
      "Murder On The Dancefloor - Sophie Ellis-Bextor - 2\n",
      "Surround Sound (feat. 21 Savage & Baby Tate) - JID - 8\n",
      "Según Quién - Maluma - 17\n",
      "I Remember Everything (feat. Kacey Musgraves) - Zach Bryan - 20\n",
      "Prada - cassö - 21\n",
      "Flowers - Miley Cyrus - 52\n",
      "The Night We Met - Lord Huron - 64\n",
      "Die For You - The Weeknd - 100\n",
      "Dance The Night - From Barbie The Album - Dua Lipa - 33\n",
      "Snooze - SZA - 55\n",
      "3D (feat. Jack Harlow) - Jung Kook - 15\n",
      "Sweater Weather - The Neighbourhood - 176\n",
      "Blinding Lights - The Weeknd - 215\n",
      "LALA - Myke Towers - 28\n",
      "Feather - Sabrina Carpenter - 6\n",
      "MONACO - Bad Bunny - 13\n",
      "Love Me Again - V - 22\n",
      "Rompe La Dompe - Peso Pluma - 2\n",
      "Is It Over Now? (Taylor's Version) (From The Vault) - Taylor Swift - 11\n",
      "Rich Baby Daddy (feat. Sexyy Red & SZA) - Drake - 13\n",
      "EL AMOR DE SU VIDA - Grupo Frontera - 23\n",
      "Another Love - Tom Odell - 144\n",
      "See You Again (feat. Kali Uchis) - Tyler, The Creator - 46\n",
      "fukumean - Gunna - 30\n",
      "Columbia - Quevedo - 27\n",
      "exes - Tate McRae - 8\n",
      "LADY GAGA - Peso Pluma - 29\n",
      "Like Crazy - Jimin - 42\n",
      "I'm Good (Blue) - David Guetta - 72\n",
      "IDGAF (feat. Yeat) - Drake - 14\n",
      "FTCU - Nicki Minaj - 4\n",
      "Lover - Taylor Swift - 49\n",
      "Anti-Hero - Taylor Swift - 64\n",
      "Sunflower - Spider-Man: Into the Spider-Verse - Post Malone - 266\n",
      "I KNOW ? - Travis Scott - 24\n",
      "un x100to - Grupo Frontera - 39\n",
      "Calm Down (with Selena Gomez) - Rema - 72\n",
      "I Ain't Worried - OneRepublic - 84\n",
      "Can’t Catch Me Now - from The Hunger Games: The Ballad of Songbirds & Snakes - Olivia Rodrigo - 10\n",
      "Yellow - Coldplay - 160\n",
      "Pehle Bhi Main - Vishal Mishra - 5\n",
      "Viva La Vida - Coldplay - 72\n",
      "Someone You Loved - Lewis Capaldi - 261\n",
      "Heartless - Kanye West - 27\n",
      "Primera Cita - Carin Leon - 28\n",
      "Y LLORO - Junior H - 14\n",
      "Creepin' (with The Weeknd & 21 Savage) - Metro Boomin - 58\n",
      "Locked out of Heaven - Bruno Mars - 83\n",
      "Apocalypse - Cigarettes After Sex - 78\n",
      "One Dance - Drake - 176\n",
      "CLASSY 101 - Feid - 41\n",
      "FE!N (feat. Playboi Carti) - Travis Scott - 17\n",
      "Poco A Poco - Xavi - 3\n",
      "Counting Stars - OneRepublic - 143\n",
      "Somewhere Only We Know - Keane - 64\n",
      "Husn - Anuv Jain - 2\n",
      "Without Me - Eminem - 120\n",
      "Save Your Tears - The Weeknd - 156\n",
      "Pink + White - Frank Ocean - 34\n",
      "Stargirl Interlude - The Weeknd - 76\n",
      "No Role Modelz - J. Cole - 129\n",
      "Maria Mariah - JC NO BEAT - 2\n",
      "cardigan - Taylor Swift - 55\n",
      "La Bachata - Manuel Turizo - 80\n",
      "Why'd You Only Call Me When You're High? - Arctic Monkeys - 109\n",
      "Alucin - Eugenio Esquivel - 2\n",
      "I Love You So - The Walters - 87\n",
      "Lovers Rock - TV Girl - 29\n",
      "Mockingbird - Eminem - 65\n",
      "DILUVIO - Rauw Alejandro - 9\n",
      "ANDO - Jere Klein - 6\n",
      "Perfect Night - LE SSERAFIM - 11\n",
      "We Found Love - Rihanna - 45\n",
      "Can't Hold Us (feat. Ray Dalton) - Macklemore & Ryan Lewis - 100\n",
      "Something in the Orange - Zach Bryan - 53\n",
      "Moonlight - Kali Uchis - 44\n",
      "MY EYES - Travis Scott - 9\n",
      "Don’t Blame Me - Taylor Swift - 73\n",
      "Summertime Sadness - Lana Del Rey - 74\n",
      "Shut up My Moms Calling - Hotel Ugly - 53\n",
      "Set Fire to the Rain - Adele - 56\n",
      "You’re Losing Me (From The Vault) - Taylor Swift - 7\n",
      "Romantic Homicide - d4vd - 71\n",
      "DEJA VU - Luan Santana - 3\n",
      "Nonsense - Sabrina Carpenter - 51\n",
      "Ella Baila Sola - Eslabon Armado - 43\n",
      "505 - Arctic Monkeys - 105\n",
      "Every Breath You Take - The Police - 109\n",
      "Flashing Lights - Kanye West - 16\n",
      "Heat Waves - Glass Animals - 155\n",
      "lovely (with Khalid) - Billie Eilish - 299\n",
      "First Person Shooter (feat. J. Cole) - Drake - 14\n",
      "Mr. Brightside - The Killers - 120\n",
      "Just the Way You Are - Bruno Mars - 54\n",
      "Heather - Conan Gray - 144\n",
      "Demons - Imagine Dragons - 59\n",
      "STAY (with Justin Bieber) - The Kid LAROI - 130\n",
      "Ghost - Justin Bieber - 118\n",
      "Modo DND - Xavi - 2\n",
      "Sure Thing - Miguel - 56\n",
      "Have You Ever Seen The Rain - Creedence Clearwater Revival - 21\n",
      "When I Was Your Man - Bruno Mars - 71\n",
      "Dark Red - Steve Lacy - 108\n",
      "AMARGURA - KAROL G - 34\n",
      "500lbs - Lil Tecca - 12\n",
      "The Color Violet - Tory Lanez - 47\n",
      "Too Many Nights (feat. Don Toliver & with Future) - Metro Boomin - 44\n",
      "Take Me To Church - Hozier - 124\n",
      "Do I Wanna Know? - Arctic Monkeys - 119\n",
      "august - Taylor Swift - 48\n",
      "The Real Slim Shady - Eminem - 114\n",
      "ELOVRGA - Alex Favela - 19\n",
      "Everybody Wants To Rule The World - Tears For Fears - 68\n",
      "LA FALDA - Myke Towers - 2\n",
      "Sprinter - Dave - 32\n",
      "Cold Heart - PNAU Remix - Elton John - 121\n",
      "wherever u r (ft. V of BTS) - UMI - 2\n",
      "In the End - Linkin Park - 27\n",
      "Father Stretch My Hands Pt. 1 - Kanye West - 6\n",
      "Let's Go 4 - Dj GBR - 17\n",
      "Dandelions - Ruth B. - 125\n",
      "Trance (with Travis Scott & Young Thug) - Metro Boomin - 32\n",
      "Take on Me - a-ha - 22\n",
      "The Hills - The Weeknd - 90\n",
      "Perfect - Ed Sheeran - 354\n",
      "goosebumps - Travis Scott - 229\n",
      "Vois sur ton chemin - Techno Mix - BENNETT - 12\n",
      "Lose Yourself - Eminem - 128\n",
      "Runaway - Kanye West - 4\n",
      "Closer Than This - Jimin - 3\n",
      "Super Shy - NewJeans - 26\n",
      "Here With Me - d4vd - 62\n",
      "\"Slut!\" (Taylor's Version) (From The Vault) - Taylor Swift - 9\n",
      "Until I Found You (with Em Beihold) - Em Beihold Version - Stephen Sanchez - 54\n",
      "Reggaeton Champagne - Bellakath - 14\n",
      "Last Night - Morgan Wallen - 47\n",
      "Not Allowed - TV Girl - 4\n",
      "MI EX TENÍA RAZÓN - KAROL G - 21\n",
      "golden hour - JVKE - 70\n",
      "Die For You (with Ariana Grande) - Remix - The Weeknd - 38\n",
      "Believer - Imagine Dragons - 358\n",
      "Money Trees - Kendrick Lamar - 49\n",
      "Skyfall - Adele - 2\n",
      "Blank Space - Taylor Swift - 107\n",
      "Satranga (From \"ANIMAL\") - Arijit Singh - 6\n",
      "La Bebe - Remix - Yng Lvcas - 43\n",
      "Es un Secreto - Plan B - 17\n",
      "Creep - Radiohead - 26\n",
      "LA PEOPLE - Peso Pluma - 8\n",
      "Cupid - Twin Ver. - FIFTY FIFTY - 40\n",
      "Dreams - 2004 Remaster - Fleetwood Mac - 68\n",
      "Lil Boo Thang - Paul Russell - 2\n",
      "Diamonds - Rihanna - 14\n",
      "Godzilla (feat. Juice WRLD) - Eminem - 85\n",
      "CRAZYZ - Fuerza Regida - 1\n",
      "Iris - The Goo Goo Dolls - 24\n",
      "Bones - Imagine Dragons - 91\n",
      "Me Leva Pra Casa / Escrito Nas Estrelas / Saudade - Ao Vivo - Lauana Prado - 3\n",
      "Night Changes - One Direction - 69\n",
      "Wake Me Up - Avicii - 94\n",
      "Save Your Tears (Remix) (with Ariana Grande) - Bonus Track - The Weeknd - 104\n",
      "LOU LOU - Gabito Ballesteros - 12\n",
      "Maps - Maroon 5 - 4\n",
      "Those Eyes - New West - 41\n",
      "Let Me Love You - DJ Snake - 49\n",
      "O Me Voy O Te Vas - Natanael Cano - 1\n",
      "Jimmy Cooks (feat. 21 Savage) - Drake - 77\n",
      "That's What I Like - Bruno Mars - 95\n",
      "Imagine Dragons , Believer , Believer\n"
     ]
    }
   ],
   "source": [
    "høyest_uker = -1\n",
    "høyest_artist = \"\"\n",
    "høyest_navn = \"\"\n",
    "\n",
    "for sang in data:\n",
    "    print(sang[\"navn\"],\"-\", sang[\"artist\"],\"-\", sang[\"uker_paa_listen\"])\n",
    "\n",
    "    sang_uker = sang[\"uker_paa_listen\"]\n",
    "    sang_artist = sang[\"artist\"]\n",
    "    sang_navn = sang[\"navn\"]\n",
    "\n",
    "    if sang_uker > høyest_uker:\n",
    "        høyest_uker = sang_uker\n",
    "        høyest_artist = sang_artist\n",
    "        høyest_navn = sang_navn\n",
    "\n",
    "print(høyest_artist,\",\",høyest_navn,\",\",høyest_navn)"
   ]
  },
  {
   "cell_type": "code",
   "execution_count": 18,
   "metadata": {},
   "outputs": [
    {
     "name": "stdout",
     "output_type": "stream",
     "text": [
      "{'navn': 'Believer', 'artist': 'Imagine Dragons', 'bilde_url': 'https://i.scdn.co/image/ab67616d00001e025675e83f707f1d7271e5cf8a', 'plassering': 173, 'forrige_plassering': 173, 'topplassering': 16, 'topp_dato': '2017-06-29', 'uker_paa_listen': 358, 'antall_streams': 8322500}\n"
     ]
    }
   ],
   "source": [
    "høyest = data[0]\n",
    "for sang in data:\n",
    "    if sang[\"uker_paa_listen\"] > høyest[\"uker_paa_listen\"]:\n",
    "        høyest = sang\n",
    "print(høyest)"
   ]
  },
  {
   "cell_type": "code",
   "execution_count": 22,
   "metadata": {},
   "outputs": [
    {
     "name": "stdout",
     "output_type": "stream",
     "text": [
      "Gjennomsnittlig uker på listen 55.41\n"
     ]
    }
   ],
   "source": [
    "total = 0\n",
    "antall = 0\n",
    "for sang in data:\n",
    "    total += sang[\"uker_paa_listen\"]\n",
    "    antall += 1\n",
    "\n",
    "print(\"Gjennomsnittlig uker på listen\", total/antall)"
   ]
  },
  {
   "cell_type": "code",
   "execution_count": 21,
   "metadata": {},
   "outputs": [
    {
     "name": "stdout",
     "output_type": "stream",
     "text": [
      "Gjennomsnittlig uker på listen 11785697.48\n"
     ]
    }
   ],
   "source": [
    "total = 0\n",
    "antall = 0\n",
    "for sang in data:\n",
    "    total += sang[\"antall_streams\"]\n",
    "    antall += 1\n",
    "\n",
    "print(\"Gjennomsnittlig uker på listen\", total/antall)"
   ]
  },
  {
   "cell_type": "code",
   "execution_count": 24,
   "metadata": {},
   "outputs": [
    {
     "name": "stdout",
     "output_type": "stream",
     "text": [
      "120017297\n"
     ]
    }
   ],
   "source": [
    "total = 0\n",
    "for sang in data:\n",
    "    if sang[\"artist\"] == \"Taylor Swift\":\n",
    "        total += sang[\"antall_streams\"]\n",
    "\n",
    "print(total)"
   ]
  },
  {
   "cell_type": "code",
   "execution_count": 29,
   "metadata": {},
   "outputs": [
    {
     "name": "stdout",
     "output_type": "stream",
     "text": [
      "12001729.7\n"
     ]
    }
   ],
   "source": [
    "total = 0\n",
    "antall = 0\n",
    "for sang in data:\n",
    "    if sang[\"artist\"] == \"Taylor Swift\":\n",
    "        total += sang[\"antall_streams\"]\n",
    "        antall += 1\n",
    "\n",
    "print(total/antall)"
   ]
  },
  {
   "cell_type": "code",
   "execution_count": null,
   "metadata": {},
   "outputs": [],
   "source": []
  },
  {
   "cell_type": "code",
   "execution_count": null,
   "metadata": {},
   "outputs": [],
   "source": []
  }
 ],
 "metadata": {
  "kernelspec": {
   "display_name": "Python 3",
   "language": "python",
   "name": "python3"
  },
  "language_info": {
   "codemirror_mode": {
    "name": "ipython",
    "version": 3
   },
   "file_extension": ".py",
   "mimetype": "text/x-python",
   "name": "python",
   "nbconvert_exporter": "python",
   "pygments_lexer": "ipython3",
   "version": "3.10.8"
  }
 },
 "nbformat": 4,
 "nbformat_minor": 2
}
