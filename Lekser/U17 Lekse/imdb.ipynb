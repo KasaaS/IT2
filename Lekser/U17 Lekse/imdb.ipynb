{
 "cells": [
  {
   "cell_type": "code",
   "execution_count": 43,
   "metadata": {},
   "outputs": [
    {
     "name": "stdout",
     "output_type": "stream",
     "text": [
      "<class 'list'>\n"
     ]
    },
    {
     "data": {
      "text/plain": [
       "{'navn': 'Yôjinbô',\n",
       " 'bilde': 'https://m.media-amazon.com/images/M/MV5BZThiZjAzZjgtNDU3MC00YThhLThjYWUtZGRkYjc2ZWZlOTVjXkEyXkFqcGdeQXVyNTA4NzY1MzY@._V1_.jpg',\n",
       " 'sjangere': ['Action', 'Drama', 'Thriller'],\n",
       " 'url': 'https://www.imdb.com//title/tt0055630/',\n",
       " 'beskrivelse': 'A crafty ronin comes to a town divided by two criminal gangs and decides to play them against each other to free the town.',\n",
       " 'dato': '1961-09-13',\n",
       " 'regissører': ['Akira Kurosawa'],\n",
       " 'trailer': 'https://www.imdb.com/video/imdb/vi1659814169/imdb/embed?autoplay=false&width=640',\n",
       " 'karakter': 8.2}"
      ]
     },
     "execution_count": 43,
     "metadata": {},
     "output_type": "execute_result"
    }
   ],
   "source": [
    "import json\n",
    "with open(\"imdb_top250.json\") as fil:\n",
    "    data = json.load(fil)\n",
    "print(type(data)) # printer datatypen for å sjekke hva vi jobber med\n",
    "data[0] # henter ut første element i lista (trenger ikke print i jupyter notebook)"
   ]
  },
  {
   "cell_type": "code",
   "execution_count": 44,
   "metadata": {},
   "outputs": [
    {
     "data": {
      "text/plain": [
       "{'navn': 'The Shawshank Redemption',\n",
       " 'bilde': 'https://m.media-amazon.com/images/M/MV5BMDFkYTc0MGEtZmNhMC00ZDIzLWFmNTEtODM1ZmRlYWMwMWFmXkEyXkFqcGdeQXVyMTMxODk2OTU@._V1_.jpg',\n",
       " 'sjangere': ['Drama'],\n",
       " 'url': 'https://www.imdb.com//title/tt0111161/',\n",
       " 'beskrivelse': 'Two imprisoned men bond over a number of years, finding solace and eventual redemption through acts of common decency.',\n",
       " 'dato': '1994-10-14',\n",
       " 'regissører': ['Frank Darabont'],\n",
       " 'trailer': 'https://www.imdb.com/video/imdb/vi3877612057/imdb/embed?autoplay=false&width=640',\n",
       " 'karakter': 9.3}"
      ]
     },
     "execution_count": 44,
     "metadata": {},
     "output_type": "execute_result"
    }
   ],
   "source": [
    "# Hvilken film ligger øverst på listen og hvem har regissert den?\n",
    "def høyeste(liste: list):\n",
    "    høyest = liste[0]\n",
    "    for film in liste:\n",
    "        if film[\"karakter\"] > høyest[\"karakter\"]:\n",
    "            høyest = film\n",
    "    return høyest # returner heller høyest[\"navn\"] og høyest[\"regissører\"] for kun de to?\n",
    "\n",
    "høyeste(data)"
   ]
  },
  {
   "cell_type": "code",
   "execution_count": 45,
   "metadata": {},
   "outputs": [
    {
     "name": "stdout",
     "output_type": "stream",
     "text": [
      "8.32199999999999\n"
     ]
    }
   ],
   "source": [
    "# Hva er gjennomsnittskarakteren til alle filmene på listen?\n",
    "def gjennomsnitt(liste: list[int]):\n",
    "    total = 0\n",
    "    antall = 0\n",
    "\n",
    "    for film in liste:\n",
    "        total += film[\"karakter\"]\n",
    "        antall += 1\n",
    "    \n",
    "    return total / antall\n",
    "\n",
    "print(gjennomsnitt(data))"
   ]
  },
  {
   "cell_type": "code",
   "execution_count": 46,
   "metadata": {},
   "outputs": [
    {
     "data": {
      "text/plain": [
       "9.02"
      ]
     },
     "execution_count": 46,
     "metadata": {},
     "output_type": "execute_result"
    }
   ],
   "source": [
    "def n_høyeste(liste: list[int], n: int):\n",
    "    høyeste_n = []\n",
    "    for i in range(0,n):\n",
    "        høyest = høyeste(data)\n",
    "        liste.remove(høyest)\n",
    "        høyeste_n.append(høyest)\n",
    "    return høyeste_n\n",
    "\n",
    "ny_liste = n_høyeste(data, 10)\n",
    "\n",
    "gjennomsnitt(ny_liste)"
   ]
  },
  {
   "cell_type": "code",
   "execution_count": 47,
   "metadata": {},
   "outputs": [
    {
     "name": "stdout",
     "output_type": "stream",
     "text": [
      "[('Akira Kurosawa', 7), ('Martin Scorsese', 7), ('Stanley Kubrick', 7)]\n"
     ]
    }
   ],
   "source": [
    "# Hvilken regissør har regissert flest filmer på listen?\n",
    "# - For hver film er regisørrer en liste. Her holder det med første regissør i listen.\n",
    "# - Bonus: Alle regisørrene i regissørlistene skal telles med.\n",
    "\n",
    "regissører = {}\n",
    "for film in data:\n",
    "    for regissør in film[\"regissører\"]:\n",
    "        if regissør in regissører.keys():\n",
    "            regissører[regissør] += 1\n",
    "        else:\n",
    "            regissører[regissør] = 1\n",
    " \n",
    "personer_sortert = sorted(regissører.items(), key=lambda regissør:regissør[1],reverse=True)\n",
    "print(personer_sortert[:3])\n"
   ]
  }
 ],
 "metadata": {
  "kernelspec": {
   "display_name": "Python 3",
   "language": "python",
   "name": "python3"
  },
  "language_info": {
   "codemirror_mode": {
    "name": "ipython",
    "version": 3
   },
   "file_extension": ".py",
   "mimetype": "text/x-python",
   "name": "python",
   "nbconvert_exporter": "python",
   "pygments_lexer": "ipython3",
   "version": "3.10.8"
  }
 },
 "nbformat": 4,
 "nbformat_minor": 2
}
