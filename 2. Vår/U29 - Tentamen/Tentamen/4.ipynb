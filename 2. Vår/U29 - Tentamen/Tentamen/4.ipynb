{
 "cells": [
  {
   "cell_type": "code",
   "execution_count": 129,
   "metadata": {},
   "outputs": [],
   "source": [
    "import json\n",
    " \n",
    "with open(\"sykkelturer.json\", \"r\", encoding=\"utf-8\") as fil:\n",
    "    sykkelturer_fil = json.load(fil)"
   ]
  },
  {
   "cell_type": "code",
   "execution_count": 130,
   "metadata": {},
   "outputs": [
    {
     "name": "stdout",
     "output_type": "stream",
     "text": [
      "stasjon: Alexander Kiellands Plass, antall turer: 537 \n",
      "stasjon: Helga Helgesens plass, antall turer: 503 \n",
      "stasjon: Olaf Ryes plass, antall turer: 495 \n",
      "stasjon: Aker Brygge, antall turer: 492 \n",
      "stasjon: Marcus Thranes gate, antall turer: 476 \n"
     ]
    }
   ],
   "source": [
    "# Finner antall for ulike stasjoner\n",
    "antall_stasjoner = {}\n",
    "\n",
    "\n",
    "for stasjon in sykkelturer_fil:  \n",
    "    if stasjon[\"start_station_name\"] not in antall_stasjoner:\n",
    "        antall_stasjoner[stasjon[\"start_station_name\"]] = 1\n",
    "    else:\n",
    "        antall_stasjoner[stasjon[\"start_station_name\"]] += 1\n",
    "\n",
    "# Sorterer og plukker ut top 5.\n",
    "stasjon_liste = list(antall_stasjoner.items())\n",
    "stasjon_sortert = sorted(stasjon_liste, key=lambda stasjon:stasjon[1], reverse=True) # Key= sorterer på den verdien du vil sortere etter, Lambda tar inn hva du sorterer og hvilken verdi du sorterer etter, reverse reverserer sortert liste.\n",
    "top_5_stasjoner = stasjon_sortert[:5]\n",
    "\n",
    "\n",
    "for i in range(5):\n",
    "    print (f\"stasjon: {top_5_stasjoner[i][0]}, antall turer: {top_5_stasjoner[i][1]} \")"
   ]
  },
  {
   "cell_type": "code",
   "execution_count": 149,
   "metadata": {},
   "outputs": [
    {
     "name": "stdout",
     "output_type": "stream",
     "text": [
      "startdestinasjon: Idioten, sluttdestinasjon: Trondheimsveien\n",
      "startdestinasjon: Sofienbergparken nordvest, sluttdestinasjon: Sjøsiden ved fontenen\n",
      "startdestinasjon: Lilleborgbanen, sluttdestinasjon: Sjøsiden ved fontenen\n"
     ]
    }
   ],
   "source": [
    "# Legger tidene i en liste for hver plass.\n",
    "\n",
    "# Lag et program som finner og presenterer de ti brukerne i datasettet som har flest Twitter-følgere.\n",
    "\n",
    "sortert_tid = sorted(sykkelturer_fil, key=lambda tur:tur[\"duration\"], reverse=True)\n",
    "top_3 = sortert_tid[:3]\n",
    "\n",
    "for tur in top_3:\n",
    "    print(f\"startdestinasjon: {tur['start_station_name']}, sluttdestinasjon: {tur['end_station_name']}\")\n"
   ]
  },
  {
   "cell_type": "code",
   "execution_count": 146,
   "metadata": {},
   "outputs": [
    {
     "name": "stdout",
     "output_type": "stream",
     "text": [
      "startdestinasjon: Brynseng T-bane, sluttdestinasjon: Kværnerbyen\n",
      "startdestinasjon: Brynseng T-bane, sluttdestinasjon: Ensjø T-bane\n",
      "startdestinasjon: Brynseng T-bane, sluttdestinasjon: Klingenberggata\n"
     ]
    }
   ],
   "source": [
    "# Legger tidene i en liste for hver plass.\n",
    "\n",
    "# Lag et program som finner og presenterer de ti brukerne i datasettet som har flest Twitter-følgere.\n",
    "\n",
    "\n",
    "\n",
    "# Jeg må finne ut hvordan jeg vet hva som er lengst unna. Jeg er ikke god med pytagoras, men tipper det blir latitude / longitude.\n",
    "sortert_distanse = sorted(sykkelturer_fil, key=lambda distanse:distanse[\"start_station_longitude\"], reverse=True)\n",
    "top_3 = sortert_distanse[:3]\n",
    "\n",
    "for tur in top_3:\n",
    "    print(f\"startdestinasjon: {tur['start_station_name']}, sluttdestinasjon: {tur['end_station_name']}\")\n"
   ]
  }
 ],
 "metadata": {
  "kernelspec": {
   "display_name": "Python 3",
   "language": "python",
   "name": "python3"
  },
  "language_info": {
   "codemirror_mode": {
    "name": "ipython",
    "version": 3
   },
   "file_extension": ".py",
   "mimetype": "text/x-python",
   "name": "python",
   "nbconvert_exporter": "python",
   "pygments_lexer": "ipython3",
   "version": "3.10.8"
  }
 },
 "nbformat": 4,
 "nbformat_minor": 2
}
