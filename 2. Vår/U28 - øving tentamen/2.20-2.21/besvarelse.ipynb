{
 "cells": [
  {
   "cell_type": "code",
   "execution_count": 85,
   "metadata": {},
   "outputs": [],
   "source": [
    "# Oppgave 2.20\n",
    "import json\n",
    " \n",
    "with open(\"twitter.json\", \"r\", encoding=\"utf-8\") as fil:\n",
    "    twitter_fil = json.load(fil)"
   ]
  },
  {
   "cell_type": "code",
   "execution_count": 84,
   "metadata": {},
   "outputs": [
    {
     "name": "stdout",
     "output_type": "stream",
     "text": [
      "Kontonavn: elonmusk, Følgere 180483638\n",
      "Kontonavn: BarackObama, Følgere 131876712\n",
      "Kontonavn: Cristiano, Følgere 111007811\n",
      "Kontonavn: justinbieber, Følgere 110939914\n",
      "Kontonavn: rihanna, Følgere 107958168\n",
      "Kontonavn: katyperry, Følgere 106547420\n",
      "Kontonavn: narendramodi, Følgere 97228794\n",
      "Kontonavn: taylorswift13, Følgere 95267900\n",
      "Kontonavn: realDonaldTrump, Følgere 87352378\n",
      "Kontonavn: ArianaGrande, Følgere 85268269\n"
     ]
    }
   ],
   "source": [
    "# Lag et program som finner og presenterer de ti brukerne i datasettet som har flest Twitter-følgere.\n",
    "\n",
    "sortert_folgere = sorted(twitter_fil, key=lambda konto:konto[\"followers\"], reverse=True)\n",
    "top_10 = sortert_folgere[:10]\n",
    "\n",
    "for konto in top_10:\n",
    "    print(f\"Kontonavn: {konto['username']}, Følgere {konto['followers']}\")\n"
   ]
  },
  {
   "cell_type": "code",
   "execution_count": 86,
   "metadata": {},
   "outputs": [
    {
     "name": "stdout",
     "output_type": "stream",
     "text": [
      "Kontonavn: elonmusk, Følgere: 180483638, Tweets: 42318\n",
      "Kontonavn: BarackObama, Følgere: 131876712, Tweets: 17016\n",
      "Kontonavn: Cristiano, Følgere: 111007811, Tweets: 4061\n",
      "Kontonavn: justinbieber, Følgere: 110939914, Tweets: 31176\n",
      "Kontonavn: rihanna, Følgere: 107958168, Tweets: 10718\n",
      "Kontonavn: katyperry, Følgere: 106547420, Tweets: 11990\n",
      "Kontonavn: narendramodi, Følgere: 97228794, Tweets: 41209\n",
      "Kontonavn: taylorswift13, Følgere: 95267900, Tweets: 828\n",
      "Kontonavn: realDonaldTrump, Følgere: 87352378, Tweets: 59120\n",
      "Kontonavn: ArianaGrande, Følgere: 85268269, Tweets: 47154\n"
     ]
    }
   ],
   "source": [
    "# Utvid programmet slik at det regner ut og presenterer antall tweets og \n",
    "# antall følgere per bruker for disse ti brukerne.\n",
    "\n",
    "\n",
    "for konto in top_10:\n",
    "        print(f\"Kontonavn: {konto['username']}, Følgere: {konto['followers']}, Tweets: {konto['tweets']}\")"
   ]
  },
  {
   "cell_type": "code",
   "execution_count": 87,
   "metadata": {},
   "outputs": [
    {
     "name": "stdout",
     "output_type": "stream",
     "text": [
      "Kontonavn: elonmusk, Følgere per følger: 314431.425087108\n",
      "Kontonavn: BarackObama, Følgere per følger: 242.85792788479245\n",
      "Kontonavn: Cristiano, Følgere per følger: 1608808.8550724639\n",
      "Kontonavn: justinbieber, Følgere per følger: 404.6967106967107\n",
      "Kontonavn: rihanna, Følgere per følger: 111411.93808049535\n",
      "Kontonavn: katyperry, Følgere per følger: 442105.47717842326\n",
      "Kontonavn: narendramodi, Følgere per følger: 36511.000375516334\n",
      "Kontonavn: taylorswift13, Følgere per følger: Kontoen følger ikke eller blir ikke fulgt \n",
      "Kontonavn: realDonaldTrump, Følgere per følger: 1712791.7254901961\n",
      "Kontonavn: ArianaGrande, Følgere per følger: 1536.5313187011209\n"
     ]
    }
   ],
   "source": [
    "#Utvid programmet slik at det også viser brukerenes følgere/følger-ratio, \n",
    "# altså antall som følger kontoen delt på antall som kontoen følger.\n",
    "\n",
    "for konto in top_10:\n",
    "    if konto[\"following\"] == 0 or konto[\"followers\"] == 0:\n",
    "        folger_ratio = \"Kontoen følger ikke eller blir ikke fulgt \"\n",
    "    else:\n",
    "        folger_ratio = konto[\"followers\"] / konto[\"following\"]\n",
    "    print(f\"Kontonavn: {konto['username']}, Følgere per følger: {folger_ratio}\")"
   ]
  },
  {
   "cell_type": "code",
   "execution_count": 47,
   "metadata": {},
   "outputs": [],
   "source": [
    "# Oppgave 2.21\n",
    "import json\n",
    " \n",
    "with open(\"Global YouTube Statistics.json\", \"r\", encoding=\"utf-8\") as fil:\n",
    "    YT_fil = json.load(fil)\n",
    "\n"
   ]
  },
  {
   "cell_type": "code",
   "execution_count": 55,
   "metadata": {},
   "outputs": [],
   "source": [
    "# Lag et program som finner og presenterer de ti landene i datasettet som har flest YouTube-kanaler.\n",
    "\n",
    "# Del 1: finn antall for hvert land\n",
    "# Her er ikke land en ordliste, så vi bruker bare en for løkke.\n",
    "antall_kanaler = {}\n",
    "\n",
    "\n",
    "for kanal in YT_fil:  \n",
    "    if kanal[\"Country\"] not in antall_kanaler:\n",
    "        antall_kanaler[kanal[\"Country\"]] = 1\n",
    "    else:\n",
    "        antall_kanaler[kanal[\"Country\"]] += 1 "
   ]
  },
  {
   "cell_type": "code",
   "execution_count": 119,
   "metadata": {},
   "outputs": [
    {
     "name": "stdout",
     "output_type": "stream",
     "text": [
      "Land: United States, antall kanaler: 313 \n",
      "Land: India, antall kanaler: 168 \n",
      "Land: nan, antall kanaler: 122 \n",
      "Land: Brazil, antall kanaler: 62 \n",
      "Land: United Kingdom, antall kanaler: 43 \n",
      "Land: Mexico, antall kanaler: 33 \n",
      "Land: Indonesia, antall kanaler: 28 \n",
      "Land: Spain, antall kanaler: 22 \n",
      "Land: Thailand, antall kanaler: 18 \n",
      "Land: South Korea, antall kanaler: 17 \n"
     ]
    }
   ],
   "source": [
    "# Lag et program som finner og presenterer de ti landene i datasettet som har flest YouTube-kanaler.\n",
    "\n",
    "# Del 2: Sorter og vis\n",
    "\n",
    "kanal_liste = list(antall_kanaler.items())\n",
    "kanal_sortert = sorted(kanal_liste, key=lambda land:land[1], reverse=True) # Key= sorterer på den verdien du vil sortere etter, Lambda tar inn hva du sorterer og hvilken verdi du sorterer etter, reverse reverserer sortert liste.\n",
    "top_10_kanaler = kanal_sortert[:10]\n",
    "\n",
    "\n",
    "for i in range(10):\n",
    "    print (f\"Land: {top_10_kanaler[i][0]}, antall kanaler: {top_10_kanaler[i][1]} \")\n"
   ]
  },
  {
   "cell_type": "code",
   "execution_count": 123,
   "metadata": {},
   "outputs": [],
   "source": [
    "# Utvid programmet til å regne ut og presentere gjennomsnittlig antall abonnenter \n",
    "# og videovisninger per kanal for hvert av disse landene.\n",
    "\n",
    "# Del 1: Finner antall abonnenter per land.\n",
    "\n",
    "antall_abonnenter = {}\n",
    "\n",
    "\n",
    "for kanal in YT_fil:  \n",
    "    if kanal[\"Country\"] not in antall_abonnenter:\n",
    "        antall_abonnenter[kanal[\"Country\"]] = 0\n",
    "    else:\n",
    "        antall_abonnenter[kanal[\"Country\"]] += kanal[\"subscribers\"]"
   ]
  },
  {
   "cell_type": "code",
   "execution_count": 121,
   "metadata": {},
   "outputs": [
    {
     "name": "stdout",
     "output_type": "stream",
     "text": [
      "Land: United States, Gjennomsnittelig abonnenter per kanal: 22873801.916932907\n",
      "Land: India, Gjennomsnittelig abonnenter per kanal: 24200000.0\n",
      "Land: nan, Gjennomsnittelig abonnenter per kanal: 22977049.18032787\n",
      "Land: Brazil, Gjennomsnittelig abonnenter per kanal: 18633870.967741936\n",
      "Land: United Kingdom, Gjennomsnittelig abonnenter per kanal: 19472093.023255814\n",
      "Land: Mexico, Gjennomsnittelig abonnenter per kanal: 17745454.545454547\n",
      "Land: Indonesia, Gjennomsnittelig abonnenter per kanal: 17860714.285714287\n",
      "Land: Spain, Gjennomsnittelig abonnenter per kanal: 15727272.727272727\n",
      "Land: Thailand, Gjennomsnittelig abonnenter per kanal: 19044444.444444444\n",
      "Land: South Korea, Gjennomsnittelig abonnenter per kanal: 23052941.17647059\n"
     ]
    }
   ],
   "source": [
    "# Utvid programmet til å regne ut og presentere gjennomsnittlig antall abonnenter \n",
    "# og videovisninger per kanal for hvert av disse landene.\n",
    "\n",
    "# Del 2: Tar antall abonnenter som tilhører land i top_10_kanaler, og deler abonnenter på antall kanaler.\n",
    "\n",
    "for kanal in top_10_kanaler:\n",
    "    for land in antall_abonnenter:\n",
    "        if land == kanal[0]:\n",
    "                print(f\"Land: {land}, Gjennomsnittelig abonnenter per kanal: {antall_abonnenter[kanal[0]] / kanal[1]}\")"
   ]
  },
  {
   "cell_type": "code",
   "execution_count": null,
   "metadata": {},
   "outputs": [],
   "source": [
    "# Utvid programmet til å regne ut og presentere gjennomsnittlig antall abonnenter \n",
    "# og videovisninger per kanal for hvert av disse landene.\n",
    "\n",
    "# Del 3: gjør det samme for viewers. "
   ]
  }
 ],
 "metadata": {
  "kernelspec": {
   "display_name": "Python 3",
   "language": "python",
   "name": "python3"
  },
  "language_info": {
   "codemirror_mode": {
    "name": "ipython",
    "version": 3
   },
   "file_extension": ".py",
   "mimetype": "text/x-python",
   "name": "python",
   "nbconvert_exporter": "python",
   "pygments_lexer": "ipython3",
   "version": "3.10.8"
  }
 },
 "nbformat": 4,
 "nbformat_minor": 2
}
