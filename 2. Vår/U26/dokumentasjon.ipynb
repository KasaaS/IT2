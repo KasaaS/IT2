{
 "cells": [
  {
   "cell_type": "code",
   "execution_count": 2,
   "metadata": {},
   "outputs": [
    {
     "name": "stdout",
     "output_type": "stream",
     "text": [
      "hallo verden\n"
     ]
    }
   ],
   "source": [
    "print(\"hallo verden\")"
   ]
  },
  {
   "cell_type": "markdown",
   "metadata": {},
   "source": [
    "# Dokumentasjon og kommentarer\n",
    "\n",
    "## Plan\n",
    "\n",
    "1. Hvorfor kommentere / dokumentere\n",
    "2. Kommentarer vs. dokumentasjon\n",
    "3. Kommentarer\n",
    "   1. Hvordan?\n",
    "   2. Trenger vi egentlig kommentarer?\n",
    "4. Type hinting\n",
    "5. Docstrings\n",
    "\n",
    "## Oppgaver \n",
    "\n",
    "3.17 - 3.20 på it2.thorcc.no\n",
    "\n"
   ]
  },
  {
   "cell_type": "markdown",
   "metadata": {},
   "source": [
    "## Hvorfor kommentere / dokumentere kode?\n",
    "\n",
    "\"Code is more often read than written\" – Guido von Rossum (Skaperen av python)\n",
    "\n"
   ]
  },
  {
   "cell_type": "markdown",
   "metadata": {},
   "source": [
    "## Kommentarer"
   ]
  },
  {
   "cell_type": "code",
   "execution_count": 3,
   "metadata": {},
   "outputs": [
    {
     "data": {
      "text/plain": [
       "'Kommentarer med tre anførsestegn \\nkan gå over flere linjer'"
      ]
     },
     "execution_count": 3,
     "metadata": {},
     "output_type": "execute_result"
    }
   ],
   "source": [
    "# Kommentarer i python lages med # (Hashtag)\n",
    "\n",
    "\"\"\"Dette er også en kommentar\"\"\"\n",
    "\n",
    "\"\"\"Kommentarer med tre anførsestegn \n",
    "kan gå over flere linjer\"\"\"\n",
    "\n",
    "\n",
    "# ifølge pythons stilguide (pep8) skal en kommentar ikke være lenger enn 72 tegn.\n",
    "# Hvis en kommentar er lenger enn 72 tegn elgger vi på et linjeskift.\n",
    "# Det er vanlig å bruke # selv om kommentarene er lange."
   ]
  },
  {
   "cell_type": "code",
   "execution_count": null,
   "metadata": {},
   "outputs": [],
   "source": [
    "def ta_på_regntøy(vær):\n",
    "    # Sjekker om været er regn\n",
    "    if vær == \"regn\":\n",
    "        # Returnerer True om vær == regn\n",
    "        return True\n",
    "    else:\n",
    "        # Returnerer Flase om vær != regn\n",
    "        return False\n",
    "    \n",
    "\n",
    "\n",
    "def ta_på_regntøy(vær):\n",
    "    if vær == \"regn\":\n",
    "        return True\n",
    "    else:\n",
    "        return False\n",
    "    \n",
    "\n",
    "def tpr(v):\n",
    "    if v == \"regn\":\n",
    "        return True\n",
    "    else:\n",
    "        return False\n",
    "    \n",
    "\n"
   ]
  },
  {
   "cell_type": "code",
   "execution_count": 5,
   "metadata": {},
   "outputs": [
    {
     "name": "stdout",
     "output_type": "stream",
     "text": [
      "Arealet er 0.5 cm^2\n",
      "Arealet av trekanten er 0.5 cm^2\n",
      "Arealet av trekanten er 0.5 cm^2\n"
     ]
    }
   ],
   "source": [
    "## Oppgave 3.17\n",
    "\n",
    "# 2. Hva gjør koden?\n",
    "#  Koden regner ut arealet til en trekant.\n",
    " \n",
    "# 3. Legg på kommentarer slik at koden blir forståelig for andre\n",
    "\n",
    "# spør bruker om verdi for grunnlinje - konverterer til desimaltall\n",
    "a = float(input(\"Grunnlinje (cm): \"))\n",
    "# spør bruker om verdi for høyde - konverterer til desimaltall\n",
    "b = float(input(\"Høyde (cm): \"))\n",
    " \n",
    "# Regner ut arealet av trekanten\n",
    "c = a*b/2\n",
    "\n",
    "# Printer arealet sammen med en tekst\n",
    "print(f\"Arealet er {c} cm^2\")\n",
    " \n",
    "## ------\n",
    "# 4. Fjern alle kommentarer og endre koden slik at den blir enklere å forstå\n",
    "\n",
    "grunnlinje = float(input(\"Grunnlinje (cm): \"))\n",
    "høyde = float(input(\"Høyde (cm): \"))\n",
    "\n",
    "areal = grunnlinje*høyde/2\n",
    "print(f\"Arealet av trekanten er {areal} cm^2\")\n",
    "\n",
    "\n",
    "# 5. Se over koden og legg på eventuelle nødvendige kommentarer\n",
    " \n",
    "grunnlinje = float(input(\"Grunnlinje (cm): \"))\n",
    "høyde = float(input(\"Høyde (cm): \"))\n",
    "\n",
    "areal = grunnlinje*høyde/2\n",
    "print(f\"Arealet av trekanten er {areal} cm^2\")"
   ]
  },
  {
   "cell_type": "code",
   "execution_count": 11,
   "metadata": {},
   "outputs": [
    {
     "name": "stdout",
     "output_type": "stream",
     "text": [
      "2\n",
      "1\n",
      "2\n",
      "1\n"
     ]
    }
   ],
   "source": [
    "# 2. Hva gjør koden?\n",
    "# teller antall sjåfører av en type nasjonalitet\n",
    " \n",
    "# 3. Legg på kommentarer slik at koden blir forståelig for andre\n",
    "f1 = [\n",
    "    {\"navn\": \"Max Verstappen\", \"nasjonalitet\": \"nederlandsk\", \"team\": \"Red Bull Racing\", \"bilnummer\": 1},\n",
    "    {\"navn\": \"Sergio Perez\", \"nasjonalitet\": \"meksikansk\", \"team\": \"Red Bull Racing\", \"bilnummer\": 11},\n",
    "    {\"navn\": \"Lewis Hamilton\", \"nasjonalitet\": \"britisk\", \"team\": \"Mercedes\", \"bilnummer\": 44},\n",
    "    {\"navn\": \"George Russell\", \"nasjonalitet\": \"britisk\", \"team\": \"Mercedes\", \"bilnummer\": 63},\n",
    "    {\"navn\": \"Charles Leclerc\", \"nasjonalitet\": \"monegaskisk\", \"team\": \"Ferrari\", \"bilnummer\": 16},\n",
    "    {\"navn\": \"Kevin Magnussen\", \"nasjonalitet\": \"dansk\", \"team\": \"Haas F1 Team\", \"bilnummer\": 20},\n",
    "    {\"navn\": \"Nico Hulkenberg\", \"nasjonalitet\": \"tysk\", \"team\": \"Haas F1 Team\", \"bilnummer\": 27}\n",
    "]\n",
    " \n",
    "antall = {}\n",
    " \n",
    "for s in f1:  \n",
    "  #sjekker om sjåfør er i ordboken       \n",
    "  if s['nasjonalitet'] not in antall:\n",
    "    # setter verdi som 1 om ikke\n",
    "    antall[s['nasjonalitet']] = 1\n",
    "  else:\n",
    "    # legger til 1 om den finnes\n",
    "    antall[s['nasjonalitet']] += 1\n",
    " \n",
    "print(antall[\"britisk\"])\n",
    "print(antall[\"nederlandsk\"])\n",
    " \n",
    "## ------\n",
    "# 4. Fjern alle kommentarer og endre koden slik at den blir enklere å forstå\n",
    "\n",
    "antall_nasjonalitet = {}\n",
    " \n",
    "for sjåfør in f1:  \n",
    "  if sjåfør['nasjonalitet'] not in antall_nasjonalitet:\n",
    "    antall_nasjonalitet[sjåfør['nasjonalitet']] = 1\n",
    "  else:\n",
    "    antall_nasjonalitet[sjåfør['nasjonalitet']] += 1\n",
    " \n",
    "print(antall_nasjonalitet[\"britisk\"])\n",
    "print(antall_nasjonalitet[\"nederlandsk\"])\n",
    "\n",
    "# 5. Se over koden, og legg på eventuelle kommentarer\n",
    "# ville ikke kommentert på denne koden. kanskje om man er usikker på lister og ordbøker.\n",
    " "
   ]
  },
  {
   "cell_type": "markdown",
   "metadata": {},
   "source": [
    "## Type hinting og docstrings\n",
    "\n",
    "type hinting og docstrings er spesielle kommentarer som brukes for å dokumentere kode\n",
    "Dokumentasjon av kode lages for å hjelpe utviklere å bruke koden\n",
    "For eksempel dokumentasjonen som er laget for å forklare random.randint er laget \n",
    "for å forklare utivklere hvordan funksjonen kan brukes.\n",
    "\n",
    "\n",
    "\"Vanlige\" kommentarer er laget for de som skal endre / forbedre kode,\n",
    "mens dokumentasjon lages for programmerere som skal bruke koden."
   ]
  },
  {
   "cell_type": "code",
   "execution_count": 14,
   "metadata": {},
   "outputs": [
    {
     "data": {
      "text/plain": [
       "25.0"
      ]
     },
     "execution_count": 14,
     "metadata": {},
     "output_type": "execute_result"
    }
   ],
   "source": [
    "# Type hinting\n",
    "\n",
    "\n",
    "# Type hinting skrives etter parametere i funksjonen for å dokumentere hva slags\n",
    "# datatyper parametere skal være. I eksempelet under er \"float\" type hinting.\n",
    "\n",
    "# Pilen på slutten viser hva som skal returneres\n",
    "def areal_trekant(grunnlinje: float, høyde: float) -> int:\n",
    "    return grunnlinje * høyde / 2\n",
    "\n",
    "\n",
    "areal_trekant(10,5)\n",
    "areal_trekant(10,5)"
   ]
  },
  {
   "cell_type": "code",
   "execution_count": null,
   "metadata": {},
   "outputs": [],
   "source": [
    "# Docstring\n",
    "\n",
    "# Docstrings er dokumentasjon som vises når vi bruker en funksjon eller klasse i vscode.\n",
    "# Skrives mellom tre anførselstegn.\n",
    "# Vanlig å beskrive hva funksjonen gjør og hva parametere er.\n",
    "\n",
    "# Legger til docstring ved å ta kommentar over flere linjer. lagd for å hjelpe andre som skal bruke koden vi lager.\n",
    "def areal_trekant(grunnlinje: float, høyde: float) -> float:\n",
    "    \"\"\"\n",
    "    En funksjon som regner ut areal av trekanter\n",
    "    \"\"\"\n",
    "    return grunnlinje * høyde / 2\n",
    "\n",
    "\n",
    "areal_trekant(10,5)\n",
    "areal_trekant(10,5)"
   ]
  },
  {
   "cell_type": "code",
   "execution_count": null,
   "metadata": {},
   "outputs": [],
   "source": [
    "## Oppgave 3.19\n",
    "\n",
    "class Hund:\n",
    "    def __init__(self, navn, alder, rase):\n",
    "        self.navn = navn\n",
    "        self.alder = alder\n",
    "        self.rase = rase\n",
    " \n",
    "    def bjeff(self):\n",
    "        \"\"\"\n",
    "        En funksjon som tar in navnet og sier woof\n",
    "        \"\"\"\n",
    "        return f\"{self.navn} sier: Woof!\"\n",
    " \n",
    "    def viftPaaHalen(self):\n",
    "        \"\"\"\n",
    "        En funksjon som tar inn navnet og returnerer navn og vifter på halen\n",
    "        \"\"\"\n",
    "        return f\"{self.navn} vifter på halen!\"\n",
    " \n",
    "    def info(self):\n",
    "        \"\"\"\n",
    "        En funksjon som tar in navn, alder og tase returnerer info om hunden.\n",
    "        \"\"\"\n",
    "        return f\"{self.navn} er en {self.alder} år gammel {self.rase}.\"\n",
    " \n",
    " \n",
    "# Test av klassen\n",
    "if __name__ == \"__main__\":\n",
    "    min_hund = Hund(\"Rex\", 5, \"Schäfer\")\n",
    "    print(min_hund.bjeff())\n",
    "    print(min_hund.viftPaaHalen())\n",
    "    print(min_hund.info())\n"
   ]
  },
  {
   "cell_type": "markdown",
   "metadata": {},
   "source": [
    "## Oppgave 3.20\n",
    "\n",
    "Jeg velger å gjøre denne oppgaven i vårprosjektet. \n",
    "Kan vise om du ønsker."
   ]
  }
 ],
 "metadata": {
  "kernelspec": {
   "display_name": "Python 3",
   "language": "python",
   "name": "python3"
  },
  "language_info": {
   "codemirror_mode": {
    "name": "ipython",
    "version": 3
   },
   "file_extension": ".py",
   "mimetype": "text/x-python",
   "name": "python",
   "nbconvert_exporter": "python",
   "pygments_lexer": "ipython3",
   "version": "3.10.8"
  }
 },
 "nbformat": 4,
 "nbformat_minor": 2
}
